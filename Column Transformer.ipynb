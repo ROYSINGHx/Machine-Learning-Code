{
 "cells": [
  {
   "cell_type": "code",
   "execution_count": 1,
   "id": "e5c3a4b9-73be-4427-b526-792862029f3d",
   "metadata": {},
   "outputs": [],
   "source": [
    "import numpy as np"
   ]
  },
  {
   "cell_type": "code",
   "execution_count": 2,
   "id": "3e1d3f4b-e230-4e76-91f5-4dcb6bdc22e7",
   "metadata": {},
   "outputs": [],
   "source": [
    "import pandas as pd"
   ]
  },
  {
   "cell_type": "code",
   "execution_count": 3,
   "id": "dbed2448-5183-40ca-8ae4-45e92f5f3bd8",
   "metadata": {},
   "outputs": [],
   "source": [
    "df=pd.read_csv('covid_toy.csv')"
   ]
  },
  {
   "cell_type": "code",
   "execution_count": 4,
   "id": "042e11e9-d089-4454-a587-7a377743a5c0",
   "metadata": {},
   "outputs": [
    {
     "data": {
      "text/html": [
       "<div>\n",
       "<style scoped>\n",
       "    .dataframe tbody tr th:only-of-type {\n",
       "        vertical-align: middle;\n",
       "    }\n",
       "\n",
       "    .dataframe tbody tr th {\n",
       "        vertical-align: top;\n",
       "    }\n",
       "\n",
       "    .dataframe thead th {\n",
       "        text-align: right;\n",
       "    }\n",
       "</style>\n",
       "<table border=\"1\" class=\"dataframe\">\n",
       "  <thead>\n",
       "    <tr style=\"text-align: right;\">\n",
       "      <th></th>\n",
       "      <th>age</th>\n",
       "      <th>gender</th>\n",
       "      <th>fever</th>\n",
       "      <th>cough</th>\n",
       "      <th>city</th>\n",
       "      <th>has_covid</th>\n",
       "    </tr>\n",
       "  </thead>\n",
       "  <tbody>\n",
       "    <tr>\n",
       "      <th>0</th>\n",
       "      <td>60</td>\n",
       "      <td>Male</td>\n",
       "      <td>103.0</td>\n",
       "      <td>Mild</td>\n",
       "      <td>Kolkata</td>\n",
       "      <td>No</td>\n",
       "    </tr>\n",
       "    <tr>\n",
       "      <th>1</th>\n",
       "      <td>27</td>\n",
       "      <td>Male</td>\n",
       "      <td>100.0</td>\n",
       "      <td>Mild</td>\n",
       "      <td>Delhi</td>\n",
       "      <td>Yes</td>\n",
       "    </tr>\n",
       "    <tr>\n",
       "      <th>2</th>\n",
       "      <td>42</td>\n",
       "      <td>Male</td>\n",
       "      <td>101.0</td>\n",
       "      <td>Mild</td>\n",
       "      <td>Delhi</td>\n",
       "      <td>No</td>\n",
       "    </tr>\n",
       "    <tr>\n",
       "      <th>3</th>\n",
       "      <td>31</td>\n",
       "      <td>Female</td>\n",
       "      <td>98.0</td>\n",
       "      <td>Mild</td>\n",
       "      <td>Kolkata</td>\n",
       "      <td>No</td>\n",
       "    </tr>\n",
       "    <tr>\n",
       "      <th>4</th>\n",
       "      <td>65</td>\n",
       "      <td>Female</td>\n",
       "      <td>101.0</td>\n",
       "      <td>Mild</td>\n",
       "      <td>Mumbai</td>\n",
       "      <td>No</td>\n",
       "    </tr>\n",
       "  </tbody>\n",
       "</table>\n",
       "</div>"
      ],
      "text/plain": [
       "   age  gender  fever cough     city has_covid\n",
       "0   60    Male  103.0  Mild  Kolkata        No\n",
       "1   27    Male  100.0  Mild    Delhi       Yes\n",
       "2   42    Male  101.0  Mild    Delhi        No\n",
       "3   31  Female   98.0  Mild  Kolkata        No\n",
       "4   65  Female  101.0  Mild   Mumbai        No"
      ]
     },
     "execution_count": 4,
     "metadata": {},
     "output_type": "execute_result"
    }
   ],
   "source": [
    "df.head()"
   ]
  },
  {
   "cell_type": "code",
   "execution_count": 8,
   "id": "14d86a1f-1f0b-4bc3-bc0c-3b15629b96a6",
   "metadata": {},
   "outputs": [],
   "source": [
    "\n",
    "from sklearn.impute import SimpleImputer"
   ]
  },
  {
   "cell_type": "code",
   "execution_count": 42,
   "id": "d9c43876-2534-405f-a4a0-f808ee3d1c31",
   "metadata": {},
   "outputs": [],
   "source": [
    "from sklearn.preprocessing import OneHotEncoder"
   ]
  },
  {
   "cell_type": "code",
   "execution_count": 41,
   "id": "077ea1ad-60ce-4130-930e-e90713916ff1",
   "metadata": {},
   "outputs": [],
   "source": [
    "from sklearn.preprocessing import OrdinalEncoder"
   ]
  },
  {
   "cell_type": "code",
   "execution_count": 13,
   "id": "7f716500-1778-4662-9ef6-3bc7ce804bd3",
   "metadata": {},
   "outputs": [],
   "source": [
    "from sklearn.model_selection import train_test_split"
   ]
  },
  {
   "cell_type": "code",
   "execution_count": 14,
   "id": "3163956d-2996-4f79-984c-f4b68ab841cf",
   "metadata": {},
   "outputs": [],
   "source": [
    "x = df.drop('has_covid',axis=1)"
   ]
  },
  {
   "cell_type": "code",
   "execution_count": 15,
   "id": "ef4bfe95-f0c2-4853-8fec-3d99319ac6bf",
   "metadata": {},
   "outputs": [],
   "source": [
    "y = df['has_covid']"
   ]
  },
  {
   "cell_type": "code",
   "execution_count": 16,
   "id": "7f433e03-ad18-4509-97ea-f2909f138b5d",
   "metadata": {},
   "outputs": [],
   "source": [
    "x_train , x_test , y_train , y_test = train_test_split(x,y,test_size=0.3,random_state=2)"
   ]
  },
  {
   "cell_type": "code",
   "execution_count": 12,
   "id": "8e2d8666-3b67-4ed8-957d-fef631a75402",
   "metadata": {},
   "outputs": [
    {
     "data": {
      "text/plain": [
       "age           0\n",
       "gender        0\n",
       "fever        10\n",
       "cough         0\n",
       "city          0\n",
       "has_covid     0\n",
       "dtype: int64"
      ]
     },
     "execution_count": 12,
     "metadata": {},
     "output_type": "execute_result"
    }
   ],
   "source": [
    "df.isnull().sum()"
   ]
  },
  {
   "cell_type": "code",
   "execution_count": 18,
   "id": "2f828011-792b-4249-8603-69afd20e67b3",
   "metadata": {},
   "outputs": [],
   "source": [
    "si = SimpleImputer()"
   ]
  },
  {
   "cell_type": "code",
   "execution_count": 23,
   "id": "cd203207-8453-462c-8610-4e24a82920b1",
   "metadata": {},
   "outputs": [],
   "source": [
    "x_train_f = si.fit_transform(x_train[['fever']])\n",
    "x_test_f = si.fit_transform(x_test[['fever']])"
   ]
  },
  {
   "cell_type": "code",
   "execution_count": 38,
   "id": "b6f6d552-7c1b-437c-956e-e19e7d3e483b",
   "metadata": {},
   "outputs": [
    {
     "data": {
      "text/plain": [
       "array([[102.     ],\n",
       "       [100.     ],\n",
       "       [ 98.     ],\n",
       "       [ 99.     ],\n",
       "       [101.     ],\n",
       "       [100.     ],\n",
       "       [101.     ],\n",
       "       [103.     ],\n",
       "       [100.78125],\n",
       "       [100.78125],\n",
       "       [ 99.     ],\n",
       "       [ 98.     ],\n",
       "       [101.     ],\n",
       "       [ 99.     ],\n",
       "       [104.     ],\n",
       "       [101.     ],\n",
       "       [100.78125],\n",
       "       [100.     ],\n",
       "       [102.     ],\n",
       "       [101.     ],\n",
       "       [101.     ],\n",
       "       [101.     ],\n",
       "       [ 98.     ],\n",
       "       [104.     ],\n",
       "       [ 99.     ],\n",
       "       [100.78125],\n",
       "       [104.     ],\n",
       "       [ 99.     ],\n",
       "       [101.     ],\n",
       "       [100.     ],\n",
       "       [104.     ],\n",
       "       [100.78125],\n",
       "       [ 99.     ],\n",
       "       [ 98.     ],\n",
       "       [104.     ],\n",
       "       [ 99.     ],\n",
       "       [101.     ],\n",
       "       [100.     ],\n",
       "       [104.     ],\n",
       "       [100.     ],\n",
       "       [101.     ],\n",
       "       [101.     ],\n",
       "       [104.     ],\n",
       "       [103.     ],\n",
       "       [ 99.     ],\n",
       "       [ 98.     ],\n",
       "       [ 98.     ],\n",
       "       [101.     ],\n",
       "       [100.     ],\n",
       "       [100.     ],\n",
       "       [101.     ],\n",
       "       [ 99.     ],\n",
       "       [103.     ],\n",
       "       [100.     ],\n",
       "       [ 98.     ],\n",
       "       [103.     ],\n",
       "       [100.     ],\n",
       "       [104.     ],\n",
       "       [103.     ],\n",
       "       [100.     ],\n",
       "       [104.     ],\n",
       "       [102.     ],\n",
       "       [100.78125],\n",
       "       [102.     ],\n",
       "       [ 98.     ],\n",
       "       [ 99.     ],\n",
       "       [ 98.     ],\n",
       "       [101.     ],\n",
       "       [103.     ],\n",
       "       [102.     ]])"
      ]
     },
     "execution_count": 38,
     "metadata": {},
     "output_type": "execute_result"
    }
   ],
   "source": [
    "x_train_f"
   ]
  },
  {
   "cell_type": "code",
   "execution_count": 25,
   "id": "244ec755-98de-4731-9255-87b9732123d8",
   "metadata": {},
   "outputs": [
    {
     "data": {
      "text/plain": [
       "age           0\n",
       "gender        0\n",
       "fever        10\n",
       "cough         0\n",
       "city          0\n",
       "has_covid     0\n",
       "dtype: int64"
      ]
     },
     "execution_count": 25,
     "metadata": {},
     "output_type": "execute_result"
    }
   ],
   "source": [
    "df.isnull().sum()"
   ]
  },
  {
   "cell_type": "code",
   "execution_count": 34,
   "id": "5c77bc35-04a5-416c-8bad-f19684adfb7a",
   "metadata": {},
   "outputs": [
    {
     "data": {
      "text/html": [
       "<div>\n",
       "<style scoped>\n",
       "    .dataframe tbody tr th:only-of-type {\n",
       "        vertical-align: middle;\n",
       "    }\n",
       "\n",
       "    .dataframe tbody tr th {\n",
       "        vertical-align: top;\n",
       "    }\n",
       "\n",
       "    .dataframe thead th {\n",
       "        text-align: right;\n",
       "    }\n",
       "</style>\n",
       "<table border=\"1\" class=\"dataframe\">\n",
       "  <thead>\n",
       "    <tr style=\"text-align: right;\">\n",
       "      <th></th>\n",
       "      <th>age</th>\n",
       "      <th>gender</th>\n",
       "      <th>fever</th>\n",
       "      <th>cough</th>\n",
       "      <th>city</th>\n",
       "      <th>has_covid</th>\n",
       "    </tr>\n",
       "  </thead>\n",
       "  <tbody>\n",
       "    <tr>\n",
       "      <th>0</th>\n",
       "      <td>60</td>\n",
       "      <td>Male</td>\n",
       "      <td>103.0</td>\n",
       "      <td>Mild</td>\n",
       "      <td>Kolkata</td>\n",
       "      <td>No</td>\n",
       "    </tr>\n",
       "    <tr>\n",
       "      <th>1</th>\n",
       "      <td>27</td>\n",
       "      <td>Male</td>\n",
       "      <td>100.0</td>\n",
       "      <td>Mild</td>\n",
       "      <td>Delhi</td>\n",
       "      <td>Yes</td>\n",
       "    </tr>\n",
       "    <tr>\n",
       "      <th>2</th>\n",
       "      <td>42</td>\n",
       "      <td>Male</td>\n",
       "      <td>101.0</td>\n",
       "      <td>Mild</td>\n",
       "      <td>Delhi</td>\n",
       "      <td>No</td>\n",
       "    </tr>\n",
       "    <tr>\n",
       "      <th>3</th>\n",
       "      <td>31</td>\n",
       "      <td>Female</td>\n",
       "      <td>98.0</td>\n",
       "      <td>Mild</td>\n",
       "      <td>Kolkata</td>\n",
       "      <td>No</td>\n",
       "    </tr>\n",
       "    <tr>\n",
       "      <th>4</th>\n",
       "      <td>65</td>\n",
       "      <td>Female</td>\n",
       "      <td>101.0</td>\n",
       "      <td>Mild</td>\n",
       "      <td>Mumbai</td>\n",
       "      <td>No</td>\n",
       "    </tr>\n",
       "  </tbody>\n",
       "</table>\n",
       "</div>"
      ],
      "text/plain": [
       "   age  gender  fever cough     city has_covid\n",
       "0   60    Male  103.0  Mild  Kolkata        No\n",
       "1   27    Male  100.0  Mild    Delhi       Yes\n",
       "2   42    Male  101.0  Mild    Delhi        No\n",
       "3   31  Female   98.0  Mild  Kolkata        No\n",
       "4   65  Female  101.0  Mild   Mumbai        No"
      ]
     },
     "execution_count": 34,
     "metadata": {},
     "output_type": "execute_result"
    }
   ],
   "source": [
    "df.head()"
   ]
  },
  {
   "cell_type": "code",
   "execution_count": 35,
   "id": "6845dd12-e6eb-4630-831b-26196f0285db",
   "metadata": {},
   "outputs": [],
   "source": [
    "oe = OrdinalEncoder(categories=[['Mild','Strong']])"
   ]
  },
  {
   "cell_type": "code",
   "execution_count": 36,
   "id": "e96a253b-50d7-4c91-8ef8-f26e679ee03c",
   "metadata": {},
   "outputs": [],
   "source": [
    "#x_train_oe = oe.fit_transform(x_train[['cough']])\n",
    "x_train_cough = oe.fit_transform(x_train[['cough']])"
   ]
  },
  {
   "cell_type": "code",
   "execution_count": 37,
   "id": "96c41ec1-f99b-4859-ab9c-bb4494eb9f37",
   "metadata": {},
   "outputs": [],
   "source": [
    "x_test_cough = oe.fit_transform(x_test[['cough']])"
   ]
  },
  {
   "cell_type": "code",
   "execution_count": 39,
   "id": "703ec597-0fc5-47b5-a82e-381754c43eb4",
   "metadata": {},
   "outputs": [
    {
     "data": {
      "text/plain": [
       "array([[0.],\n",
       "       [0.],\n",
       "       [0.],\n",
       "       [1.],\n",
       "       [0.],\n",
       "       [0.],\n",
       "       [1.],\n",
       "       [1.],\n",
       "       [0.],\n",
       "       [0.],\n",
       "       [1.],\n",
       "       [0.],\n",
       "       [1.],\n",
       "       [0.],\n",
       "       [0.],\n",
       "       [1.],\n",
       "       [1.],\n",
       "       [0.],\n",
       "       [1.],\n",
       "       [0.],\n",
       "       [0.],\n",
       "       [1.],\n",
       "       [1.],\n",
       "       [0.],\n",
       "       [1.],\n",
       "       [0.],\n",
       "       [0.],\n",
       "       [0.],\n",
       "       [0.],\n",
       "       [1.],\n",
       "       [1.],\n",
       "       [1.],\n",
       "       [1.],\n",
       "       [1.],\n",
       "       [0.],\n",
       "       [0.],\n",
       "       [0.],\n",
       "       [1.],\n",
       "       [0.],\n",
       "       [0.],\n",
       "       [1.],\n",
       "       [0.],\n",
       "       [1.],\n",
       "       [0.],\n",
       "       [0.],\n",
       "       [1.],\n",
       "       [0.],\n",
       "       [0.],\n",
       "       [1.],\n",
       "       [0.],\n",
       "       [0.],\n",
       "       [0.],\n",
       "       [0.],\n",
       "       [0.],\n",
       "       [1.],\n",
       "       [0.],\n",
       "       [0.],\n",
       "       [0.],\n",
       "       [0.],\n",
       "       [0.],\n",
       "       [0.],\n",
       "       [0.],\n",
       "       [1.],\n",
       "       [0.],\n",
       "       [0.],\n",
       "       [0.],\n",
       "       [1.],\n",
       "       [0.],\n",
       "       [1.],\n",
       "       [0.]])"
      ]
     },
     "execution_count": 39,
     "metadata": {},
     "output_type": "execute_result"
    }
   ],
   "source": [
    "x_train_cough"
   ]
  },
  {
   "cell_type": "code",
   "execution_count": 51,
   "id": "8cbf00e5-bec5-4fe6-ae31-4543c65147c6",
   "metadata": {},
   "outputs": [],
   "source": [
    "from sklearn.preprocessing import OneHotEncoder"
   ]
  },
  {
   "cell_type": "code",
   "execution_count": 54,
   "id": "0a4e8dfd-b311-48b6-b64b-00cc39294ec1",
   "metadata": {},
   "outputs": [],
   "source": [
    "#ohe = OneHoteEncoder(drop='first')\n",
    "ohe = OneHotEncoder(drop='first')"
   ]
  },
  {
   "cell_type": "code",
   "execution_count": 49,
   "id": "6116a6b2-fffb-4920-bc55-a3439441de39",
   "metadata": {},
   "outputs": [
    {
     "data": {
      "text/html": [
       "<div>\n",
       "<style scoped>\n",
       "    .dataframe tbody tr th:only-of-type {\n",
       "        vertical-align: middle;\n",
       "    }\n",
       "\n",
       "    .dataframe tbody tr th {\n",
       "        vertical-align: top;\n",
       "    }\n",
       "\n",
       "    .dataframe thead th {\n",
       "        text-align: right;\n",
       "    }\n",
       "</style>\n",
       "<table border=\"1\" class=\"dataframe\">\n",
       "  <thead>\n",
       "    <tr style=\"text-align: right;\">\n",
       "      <th></th>\n",
       "      <th>age</th>\n",
       "      <th>gender</th>\n",
       "      <th>fever</th>\n",
       "      <th>cough</th>\n",
       "      <th>city</th>\n",
       "      <th>has_covid</th>\n",
       "    </tr>\n",
       "  </thead>\n",
       "  <tbody>\n",
       "    <tr>\n",
       "      <th>0</th>\n",
       "      <td>60</td>\n",
       "      <td>Male</td>\n",
       "      <td>103.0</td>\n",
       "      <td>Mild</td>\n",
       "      <td>Kolkata</td>\n",
       "      <td>No</td>\n",
       "    </tr>\n",
       "    <tr>\n",
       "      <th>1</th>\n",
       "      <td>27</td>\n",
       "      <td>Male</td>\n",
       "      <td>100.0</td>\n",
       "      <td>Mild</td>\n",
       "      <td>Delhi</td>\n",
       "      <td>Yes</td>\n",
       "    </tr>\n",
       "    <tr>\n",
       "      <th>2</th>\n",
       "      <td>42</td>\n",
       "      <td>Male</td>\n",
       "      <td>101.0</td>\n",
       "      <td>Mild</td>\n",
       "      <td>Delhi</td>\n",
       "      <td>No</td>\n",
       "    </tr>\n",
       "    <tr>\n",
       "      <th>3</th>\n",
       "      <td>31</td>\n",
       "      <td>Female</td>\n",
       "      <td>98.0</td>\n",
       "      <td>Mild</td>\n",
       "      <td>Kolkata</td>\n",
       "      <td>No</td>\n",
       "    </tr>\n",
       "    <tr>\n",
       "      <th>4</th>\n",
       "      <td>65</td>\n",
       "      <td>Female</td>\n",
       "      <td>101.0</td>\n",
       "      <td>Mild</td>\n",
       "      <td>Mumbai</td>\n",
       "      <td>No</td>\n",
       "    </tr>\n",
       "  </tbody>\n",
       "</table>\n",
       "</div>"
      ],
      "text/plain": [
       "   age  gender  fever cough     city has_covid\n",
       "0   60    Male  103.0  Mild  Kolkata        No\n",
       "1   27    Male  100.0  Mild    Delhi       Yes\n",
       "2   42    Male  101.0  Mild    Delhi        No\n",
       "3   31  Female   98.0  Mild  Kolkata        No\n",
       "4   65  Female  101.0  Mild   Mumbai        No"
      ]
     },
     "execution_count": 49,
     "metadata": {},
     "output_type": "execute_result"
    }
   ],
   "source": [
    "df.head()"
   ]
  },
  {
   "cell_type": "code",
   "execution_count": 57,
   "id": "e22b78d6-846e-46e4-b04c-979353c23f70",
   "metadata": {},
   "outputs": [],
   "source": [
    "x_train_ohe = ohe.fit_transform(x_train[['gender','city']]).toarray()"
   ]
  },
  {
   "cell_type": "code",
   "execution_count": 58,
   "id": "255384db-ecea-4c17-bde6-f014b146d5f1",
   "metadata": {},
   "outputs": [
    {
     "data": {
      "text/plain": [
       "array([[0., 0., 0., 0.],\n",
       "       [1., 1., 0., 0.],\n",
       "       [0., 0., 0., 0.],\n",
       "       [1., 0., 0., 0.],\n",
       "       [0., 0., 0., 0.],\n",
       "       [1., 0., 0., 0.],\n",
       "       [1., 0., 0., 0.],\n",
       "       [1., 0., 0., 0.],\n",
       "       [1., 1., 0., 0.],\n",
       "       [0., 1., 0., 0.],\n",
       "       [0., 0., 1., 0.],\n",
       "       [1., 1., 0., 0.],\n",
       "       [1., 0., 0., 0.],\n",
       "       [0., 0., 0., 1.],\n",
       "       [0., 0., 0., 0.],\n",
       "       [0., 1., 0., 0.],\n",
       "       [0., 0., 0., 0.],\n",
       "       [0., 0., 1., 0.],\n",
       "       [0., 0., 0., 0.],\n",
       "       [0., 0., 0., 1.],\n",
       "       [0., 1., 0., 0.],\n",
       "       [0., 0., 1., 0.],\n",
       "       [0., 1., 0., 0.],\n",
       "       [0., 0., 1., 0.],\n",
       "       [0., 0., 0., 0.],\n",
       "       [1., 0., 1., 0.],\n",
       "       [1., 0., 0., 1.],\n",
       "       [1., 0., 0., 0.],\n",
       "       [0., 0., 0., 0.],\n",
       "       [0., 0., 0., 0.],\n",
       "       [0., 1., 0., 0.],\n",
       "       [1., 0., 1., 0.],\n",
       "       [0., 1., 0., 0.],\n",
       "       [0., 0., 0., 1.],\n",
       "       [1., 0., 0., 0.],\n",
       "       [0., 0., 0., 1.],\n",
       "       [1., 1., 0., 0.],\n",
       "       [0., 0., 0., 0.],\n",
       "       [1., 0., 1., 0.],\n",
       "       [0., 0., 1., 0.],\n",
       "       [0., 1., 0., 0.],\n",
       "       [0., 0., 0., 1.],\n",
       "       [0., 0., 1., 0.],\n",
       "       [0., 1., 0., 0.],\n",
       "       [1., 1., 0., 0.],\n",
       "       [1., 0., 0., 1.],\n",
       "       [0., 0., 1., 0.],\n",
       "       [0., 1., 0., 0.],\n",
       "       [0., 0., 1., 0.],\n",
       "       [1., 1., 0., 0.],\n",
       "       [0., 0., 0., 1.],\n",
       "       [1., 0., 0., 0.],\n",
       "       [0., 0., 1., 0.],\n",
       "       [1., 0., 1., 0.],\n",
       "       [1., 0., 0., 0.],\n",
       "       [1., 0., 1., 0.],\n",
       "       [1., 0., 0., 0.],\n",
       "       [0., 0., 0., 0.],\n",
       "       [0., 0., 0., 0.],\n",
       "       [1., 0., 1., 0.],\n",
       "       [1., 0., 0., 1.],\n",
       "       [1., 0., 0., 1.],\n",
       "       [0., 0., 0., 1.],\n",
       "       [1., 0., 1., 0.],\n",
       "       [1., 0., 1., 0.],\n",
       "       [0., 0., 0., 0.],\n",
       "       [0., 0., 1., 0.],\n",
       "       [0., 0., 1., 0.],\n",
       "       [1., 0., 1., 0.],\n",
       "       [0., 1., 0., 0.]])"
      ]
     },
     "execution_count": 58,
     "metadata": {},
     "output_type": "execute_result"
    }
   ],
   "source": [
    "x_train_ohe"
   ]
  },
  {
   "cell_type": "code",
   "execution_count": 74,
   "id": "d694ea29-0a89-499c-92ec-e06a3bcf836e",
   "metadata": {},
   "outputs": [],
   "source": [
    "from sklearn.compose import ColumnTransformer\n"
   ]
  },
  {
   "cell_type": "code",
   "execution_count": 75,
   "id": "64df8936-cd77-4df0-aa6f-04009913ff59",
   "metadata": {},
   "outputs": [],
   "source": [
    "transformer = ColumnTransformer(transformers=\n",
    "                                [('so1',SimpleImputer(),['fever']),\n",
    "                                 ('so2',OrdinalEncoder(categories=[['Mild','Strong']]),['cough']),\n",
    "                                 ('so3'),OneHotEncoder(drop='first'),['gender','city']],\n",
    "                                remainder='passthrough')"
   ]
  },
  {
   "cell_type": "code",
   "execution_count": 77,
   "id": "a9577286-f6b5-42b3-a614-2e35984be4d6",
   "metadata": {},
   "outputs": [
    {
     "ename": "TypeError",
     "evalue": "'OneHotEncoder' object is not iterable",
     "output_type": "error",
     "traceback": [
      "\u001b[1;31m---------------------------------------------------------------------------\u001b[0m",
      "\u001b[1;31mTypeError\u001b[0m                                 Traceback (most recent call last)",
      "Cell \u001b[1;32mIn[77], line 1\u001b[0m\n\u001b[1;32m----> 1\u001b[0m \u001b[43mtransformer\u001b[49m\u001b[38;5;241;43m.\u001b[39;49m\u001b[43mfit_transform\u001b[49m\u001b[43m(\u001b[49m\u001b[43mx_train\u001b[49m\u001b[43m)\u001b[49m\u001b[38;5;241m.\u001b[39mshape\n",
      "File \u001b[1;32m~\\AppData\\Local\\Programs\\Python\\Python312\\Lib\\site-packages\\sklearn\\utils\\_set_output.py:313\u001b[0m, in \u001b[0;36m_wrap_method_output.<locals>.wrapped\u001b[1;34m(self, X, *args, **kwargs)\u001b[0m\n\u001b[0;32m    311\u001b[0m \u001b[38;5;129m@wraps\u001b[39m(f)\n\u001b[0;32m    312\u001b[0m \u001b[38;5;28;01mdef\u001b[39;00m \u001b[38;5;21mwrapped\u001b[39m(\u001b[38;5;28mself\u001b[39m, X, \u001b[38;5;241m*\u001b[39margs, \u001b[38;5;241m*\u001b[39m\u001b[38;5;241m*\u001b[39mkwargs):\n\u001b[1;32m--> 313\u001b[0m     data_to_wrap \u001b[38;5;241m=\u001b[39m \u001b[43mf\u001b[49m\u001b[43m(\u001b[49m\u001b[38;5;28;43mself\u001b[39;49m\u001b[43m,\u001b[49m\u001b[43m \u001b[49m\u001b[43mX\u001b[49m\u001b[43m,\u001b[49m\u001b[43m \u001b[49m\u001b[38;5;241;43m*\u001b[39;49m\u001b[43margs\u001b[49m\u001b[43m,\u001b[49m\u001b[43m \u001b[49m\u001b[38;5;241;43m*\u001b[39;49m\u001b[38;5;241;43m*\u001b[39;49m\u001b[43mkwargs\u001b[49m\u001b[43m)\u001b[49m\n\u001b[0;32m    314\u001b[0m     \u001b[38;5;28;01mif\u001b[39;00m \u001b[38;5;28misinstance\u001b[39m(data_to_wrap, \u001b[38;5;28mtuple\u001b[39m):\n\u001b[0;32m    315\u001b[0m         \u001b[38;5;66;03m# only wrap the first output for cross decomposition\u001b[39;00m\n\u001b[0;32m    316\u001b[0m         return_tuple \u001b[38;5;241m=\u001b[39m (\n\u001b[0;32m    317\u001b[0m             _wrap_data_with_container(method, data_to_wrap[\u001b[38;5;241m0\u001b[39m], X, \u001b[38;5;28mself\u001b[39m),\n\u001b[0;32m    318\u001b[0m             \u001b[38;5;241m*\u001b[39mdata_to_wrap[\u001b[38;5;241m1\u001b[39m:],\n\u001b[0;32m    319\u001b[0m         )\n",
      "File \u001b[1;32m~\\AppData\\Local\\Programs\\Python\\Python312\\Lib\\site-packages\\sklearn\\base.py:1473\u001b[0m, in \u001b[0;36m_fit_context.<locals>.decorator.<locals>.wrapper\u001b[1;34m(estimator, *args, **kwargs)\u001b[0m\n\u001b[0;32m   1466\u001b[0m     estimator\u001b[38;5;241m.\u001b[39m_validate_params()\n\u001b[0;32m   1468\u001b[0m \u001b[38;5;28;01mwith\u001b[39;00m config_context(\n\u001b[0;32m   1469\u001b[0m     skip_parameter_validation\u001b[38;5;241m=\u001b[39m(\n\u001b[0;32m   1470\u001b[0m         prefer_skip_nested_validation \u001b[38;5;129;01mor\u001b[39;00m global_skip_validation\n\u001b[0;32m   1471\u001b[0m     )\n\u001b[0;32m   1472\u001b[0m ):\n\u001b[1;32m-> 1473\u001b[0m     \u001b[38;5;28;01mreturn\u001b[39;00m \u001b[43mfit_method\u001b[49m\u001b[43m(\u001b[49m\u001b[43mestimator\u001b[49m\u001b[43m,\u001b[49m\u001b[43m \u001b[49m\u001b[38;5;241;43m*\u001b[39;49m\u001b[43margs\u001b[49m\u001b[43m,\u001b[49m\u001b[43m \u001b[49m\u001b[38;5;241;43m*\u001b[39;49m\u001b[38;5;241;43m*\u001b[39;49m\u001b[43mkwargs\u001b[49m\u001b[43m)\u001b[49m\n",
      "File \u001b[1;32m~\\AppData\\Local\\Programs\\Python\\Python312\\Lib\\site-packages\\sklearn\\compose\\_column_transformer.py:966\u001b[0m, in \u001b[0;36mColumnTransformer.fit_transform\u001b[1;34m(self, X, y, **params)\u001b[0m\n\u001b[0;32m    964\u001b[0m \u001b[38;5;66;03m# set n_features_in_ attribute\u001b[39;00m\n\u001b[0;32m    965\u001b[0m \u001b[38;5;28mself\u001b[39m\u001b[38;5;241m.\u001b[39m_check_n_features(X, reset\u001b[38;5;241m=\u001b[39m\u001b[38;5;28;01mTrue\u001b[39;00m)\n\u001b[1;32m--> 966\u001b[0m \u001b[38;5;28;43mself\u001b[39;49m\u001b[38;5;241;43m.\u001b[39;49m\u001b[43m_validate_transformers\u001b[49m\u001b[43m(\u001b[49m\u001b[43m)\u001b[49m\n\u001b[0;32m    967\u001b[0m n_samples \u001b[38;5;241m=\u001b[39m _num_samples(X)\n\u001b[0;32m    969\u001b[0m \u001b[38;5;28mself\u001b[39m\u001b[38;5;241m.\u001b[39m_validate_column_callables(X)\n",
      "File \u001b[1;32m~\\AppData\\Local\\Programs\\Python\\Python312\\Lib\\site-packages\\sklearn\\compose\\_column_transformer.py:501\u001b[0m, in \u001b[0;36mColumnTransformer._validate_transformers\u001b[1;34m(self)\u001b[0m\n\u001b[0;32m    498\u001b[0m \u001b[38;5;28;01mif\u001b[39;00m \u001b[38;5;129;01mnot\u001b[39;00m \u001b[38;5;28mself\u001b[39m\u001b[38;5;241m.\u001b[39mtransformers:\n\u001b[0;32m    499\u001b[0m     \u001b[38;5;28;01mreturn\u001b[39;00m\n\u001b[1;32m--> 501\u001b[0m names, transformers, _ \u001b[38;5;241m=\u001b[39m \u001b[38;5;28;43mzip\u001b[39;49m\u001b[43m(\u001b[49m\u001b[38;5;241;43m*\u001b[39;49m\u001b[38;5;28;43mself\u001b[39;49m\u001b[38;5;241;43m.\u001b[39;49m\u001b[43mtransformers\u001b[49m\u001b[43m)\u001b[49m\n\u001b[0;32m    503\u001b[0m \u001b[38;5;66;03m# validate names\u001b[39;00m\n\u001b[0;32m    504\u001b[0m \u001b[38;5;28mself\u001b[39m\u001b[38;5;241m.\u001b[39m_validate_names(names)\n",
      "\u001b[1;31mTypeError\u001b[0m: 'OneHotEncoder' object is not iterable"
     ]
    }
   ],
   "source": [
    "\n",
    "transformer.fit_transform(x_train).shape"
   ]
  },
  {
   "cell_type": "code",
   "execution_count": 79,
   "id": "fd44357e-a26a-4d91-8737-65db36f8b0f7",
   "metadata": {},
   "outputs": [],
   "source": [
    "transformer = ColumnTransformer(transformers=[\n",
    "    ('tnf1',SimpleImputer(),['fever']),\n",
    "    ('tnf2',OrdinalEncoder(categories=[['Mild','Strong']]),['cough']),\n",
    "    ('tnf3',OneHotEncoder(drop='first'),['gender','city'])\n",
    "],remainder='passthrough')"
   ]
  },
  {
   "cell_type": "code",
   "execution_count": 86,
   "id": "d166aae8-ca08-44a3-82a5-c9117037c3ad",
   "metadata": {},
   "outputs": [
    {
     "data": {
      "text/plain": [
       "array([[102.     ,   0.     ,   0.     ,   0.     ,   0.     ,   0.     ,\n",
       "         69.     ],\n",
       "       [100.     ,   0.     ,   1.     ,   1.     ,   0.     ,   0.     ,\n",
       "         27.     ],\n",
       "       [ 98.     ,   0.     ,   0.     ,   0.     ,   0.     ,   0.     ,\n",
       "         64.     ],\n",
       "       [ 99.     ,   1.     ,   1.     ,   0.     ,   0.     ,   0.     ,\n",
       "         66.     ],\n",
       "       [101.     ,   0.     ,   0.     ,   0.     ,   0.     ,   0.     ,\n",
       "         38.     ],\n",
       "       [100.     ,   0.     ,   1.     ,   0.     ,   0.     ,   0.     ,\n",
       "         11.     ],\n",
       "       [101.     ,   1.     ,   1.     ,   0.     ,   0.     ,   0.     ,\n",
       "         14.     ],\n",
       "       [103.     ,   1.     ,   1.     ,   0.     ,   0.     ,   0.     ,\n",
       "         46.     ],\n",
       "       [100.78125,   0.     ,   1.     ,   1.     ,   0.     ,   0.     ,\n",
       "         38.     ],\n",
       "       [100.78125,   0.     ,   0.     ,   1.     ,   0.     ,   0.     ,\n",
       "         75.     ],\n",
       "       [ 99.     ,   1.     ,   0.     ,   0.     ,   1.     ,   0.     ,\n",
       "         25.     ],\n",
       "       [ 98.     ,   0.     ,   1.     ,   1.     ,   0.     ,   0.     ,\n",
       "         83.     ],\n",
       "       [101.     ,   1.     ,   1.     ,   0.     ,   0.     ,   0.     ,\n",
       "         47.     ],\n",
       "       [ 99.     ,   0.     ,   0.     ,   0.     ,   0.     ,   1.     ,\n",
       "         60.     ],\n",
       "       [104.     ,   0.     ,   0.     ,   0.     ,   0.     ,   0.     ,\n",
       "         12.     ],\n",
       "       [101.     ,   1.     ,   0.     ,   1.     ,   0.     ,   0.     ,\n",
       "         34.     ],\n",
       "       [100.78125,   1.     ,   0.     ,   0.     ,   0.     ,   0.     ,\n",
       "         42.     ],\n",
       "       [100.     ,   0.     ,   0.     ,   0.     ,   1.     ,   0.     ,\n",
       "         19.     ],\n",
       "       [102.     ,   1.     ,   0.     ,   0.     ,   0.     ,   0.     ,\n",
       "         24.     ],\n",
       "       [101.     ,   0.     ,   0.     ,   0.     ,   0.     ,   1.     ,\n",
       "         81.     ],\n",
       "       [101.     ,   0.     ,   0.     ,   1.     ,   0.     ,   0.     ,\n",
       "         64.     ],\n",
       "       [101.     ,   1.     ,   0.     ,   0.     ,   1.     ,   0.     ,\n",
       "         51.     ],\n",
       "       [ 98.     ,   1.     ,   0.     ,   1.     ,   0.     ,   0.     ,\n",
       "         40.     ],\n",
       "       [104.     ,   0.     ,   0.     ,   0.     ,   1.     ,   0.     ,\n",
       "          6.     ],\n",
       "       [ 99.     ,   1.     ,   0.     ,   0.     ,   0.     ,   0.     ,\n",
       "         49.     ],\n",
       "       [100.78125,   0.     ,   1.     ,   0.     ,   1.     ,   0.     ,\n",
       "         82.     ],\n",
       "       [104.     ,   0.     ,   1.     ,   0.     ,   0.     ,   1.     ,\n",
       "         42.     ],\n",
       "       [ 99.     ,   0.     ,   1.     ,   0.     ,   0.     ,   0.     ,\n",
       "         72.     ],\n",
       "       [101.     ,   0.     ,   0.     ,   0.     ,   0.     ,   0.     ,\n",
       "         20.     ],\n",
       "       [100.     ,   1.     ,   0.     ,   0.     ,   0.     ,   0.     ,\n",
       "         19.     ],\n",
       "       [104.     ,   1.     ,   0.     ,   1.     ,   0.     ,   0.     ,\n",
       "         75.     ],\n",
       "       [100.78125,   1.     ,   1.     ,   0.     ,   1.     ,   0.     ,\n",
       "         79.     ],\n",
       "       [ 99.     ,   1.     ,   0.     ,   1.     ,   0.     ,   0.     ,\n",
       "         59.     ],\n",
       "       [ 98.     ,   1.     ,   0.     ,   0.     ,   0.     ,   1.     ,\n",
       "          5.     ],\n",
       "       [104.     ,   0.     ,   1.     ,   0.     ,   0.     ,   0.     ,\n",
       "         25.     ],\n",
       "       [ 99.     ,   0.     ,   0.     ,   0.     ,   0.     ,   1.     ,\n",
       "         14.     ],\n",
       "       [101.     ,   0.     ,   1.     ,   1.     ,   0.     ,   0.     ,\n",
       "         19.     ],\n",
       "       [100.     ,   1.     ,   0.     ,   0.     ,   0.     ,   0.     ,\n",
       "         47.     ],\n",
       "       [104.     ,   0.     ,   1.     ,   0.     ,   1.     ,   0.     ,\n",
       "         51.     ],\n",
       "       [100.     ,   0.     ,   0.     ,   0.     ,   1.     ,   0.     ,\n",
       "          5.     ],\n",
       "       [101.     ,   1.     ,   0.     ,   1.     ,   0.     ,   0.     ,\n",
       "         68.     ],\n",
       "       [101.     ,   0.     ,   0.     ,   0.     ,   0.     ,   1.     ,\n",
       "         19.     ],\n",
       "       [104.     ,   1.     ,   0.     ,   0.     ,   1.     ,   0.     ,\n",
       "         54.     ],\n",
       "       [103.     ,   0.     ,   0.     ,   1.     ,   0.     ,   0.     ,\n",
       "         73.     ],\n",
       "       [ 99.     ,   0.     ,   1.     ,   1.     ,   0.     ,   0.     ,\n",
       "         65.     ],\n",
       "       [ 98.     ,   1.     ,   1.     ,   0.     ,   0.     ,   1.     ,\n",
       "         23.     ],\n",
       "       [ 98.     ,   0.     ,   0.     ,   0.     ,   1.     ,   0.     ,\n",
       "         26.     ],\n",
       "       [101.     ,   0.     ,   0.     ,   1.     ,   0.     ,   0.     ,\n",
       "         49.     ],\n",
       "       [100.     ,   1.     ,   0.     ,   0.     ,   1.     ,   0.     ,\n",
       "         11.     ],\n",
       "       [100.     ,   0.     ,   1.     ,   1.     ,   0.     ,   0.     ,\n",
       "         27.     ],\n",
       "       [101.     ,   0.     ,   0.     ,   0.     ,   0.     ,   1.     ,\n",
       "         65.     ],\n",
       "       [ 99.     ,   0.     ,   1.     ,   0.     ,   0.     ,   0.     ,\n",
       "         65.     ],\n",
       "       [103.     ,   0.     ,   0.     ,   0.     ,   1.     ,   0.     ,\n",
       "         50.     ],\n",
       "       [100.     ,   0.     ,   1.     ,   0.     ,   1.     ,   0.     ,\n",
       "         55.     ],\n",
       "       [ 98.     ,   1.     ,   1.     ,   0.     ,   0.     ,   0.     ,\n",
       "         12.     ],\n",
       "       [103.     ,   0.     ,   1.     ,   0.     ,   1.     ,   0.     ,\n",
       "         83.     ],\n",
       "       [100.     ,   0.     ,   1.     ,   0.     ,   0.     ,   0.     ,\n",
       "         10.     ],\n",
       "       [104.     ,   0.     ,   0.     ,   0.     ,   0.     ,   0.     ,\n",
       "         18.     ],\n",
       "       [103.     ,   0.     ,   0.     ,   0.     ,   0.     ,   0.     ,\n",
       "         16.     ],\n",
       "       [100.     ,   0.     ,   1.     ,   0.     ,   1.     ,   0.     ,\n",
       "         27.     ],\n",
       "       [104.     ,   0.     ,   1.     ,   0.     ,   0.     ,   1.     ,\n",
       "         44.     ],\n",
       "       [102.     ,   0.     ,   1.     ,   0.     ,   0.     ,   1.     ,\n",
       "         74.     ],\n",
       "       [100.78125,   1.     ,   0.     ,   0.     ,   0.     ,   1.     ,\n",
       "         20.     ],\n",
       "       [102.     ,   0.     ,   1.     ,   0.     ,   1.     ,   0.     ,\n",
       "          5.     ],\n",
       "       [ 98.     ,   0.     ,   1.     ,   0.     ,   1.     ,   0.     ,\n",
       "         24.     ],\n",
       "       [ 99.     ,   0.     ,   0.     ,   0.     ,   0.     ,   0.     ,\n",
       "         22.     ],\n",
       "       [ 98.     ,   1.     ,   0.     ,   0.     ,   1.     ,   0.     ,\n",
       "         71.     ],\n",
       "       [101.     ,   0.     ,   0.     ,   0.     ,   1.     ,   0.     ,\n",
       "         83.     ],\n",
       "       [103.     ,   1.     ,   1.     ,   0.     ,   1.     ,   0.     ,\n",
       "         70.     ],\n",
       "       [102.     ,   0.     ,   0.     ,   1.     ,   0.     ,   0.     ,\n",
       "         49.     ]])"
      ]
     },
     "execution_count": 86,
     "metadata": {},
     "output_type": "execute_result"
    }
   ],
   "source": [
    "transformer.fit_transform(x_train)"
   ]
  },
  {
   "cell_type": "code",
   "execution_count": null,
   "id": "15469f2f-c091-47f3-9048-08a2be947498",
   "metadata": {},
   "outputs": [],
   "source": []
  },
  {
   "cell_type": "code",
   "execution_count": null,
   "id": "722922da-f849-4599-8058-3b3474406797",
   "metadata": {},
   "outputs": [],
   "source": []
  }
 ],
 "metadata": {
  "kernelspec": {
   "display_name": "Python 3 (ipykernel)",
   "language": "python",
   "name": "python3"
  },
  "language_info": {
   "codemirror_mode": {
    "name": "ipython",
    "version": 3
   },
   "file_extension": ".py",
   "mimetype": "text/x-python",
   "name": "python",
   "nbconvert_exporter": "python",
   "pygments_lexer": "ipython3",
   "version": "3.12.3"
  }
 },
 "nbformat": 4,
 "nbformat_minor": 5
}
